{
 "cells": [
  {
   "cell_type": "code",
   "execution_count": 1,
   "metadata": {},
   "outputs": [],
   "source": [
    "import sqlite3\n",
    "import random\n",
    "from modules.Device import Device\n",
    "\n",
    "def create_db():\n",
    "    con = sqlite3.connect(\"db.sqlite\")\n",
    "    cur = con.cursor()\n",
    "    cur.execute(\"CREATE TABLE device(id, x, y, z, cpu_limit, gpu_limit, mem_limit, disk_limit, cpu_usage, gpu_usage, mem_usage, disk_usage)\")\n",
    "    # Need to find a way to store the routing table"
   ]
  },
  {
   "cell_type": "code",
   "execution_count": 2,
   "metadata": {},
   "outputs": [
    {
     "ename": "OperationalError",
     "evalue": "table device already exists",
     "output_type": "error",
     "traceback": [
      "\u001b[0;31m---------------------------------------------------------------------------\u001b[0m",
      "\u001b[0;31mOperationalError\u001b[0m                          Traceback (most recent call last)",
      "Cell \u001b[0;32mIn[2], line 1\u001b[0m\n\u001b[0;32m----> 1\u001b[0m create_db()\n",
      "Cell \u001b[0;32mIn[1], line 8\u001b[0m, in \u001b[0;36mcreate_db\u001b[0;34m()\u001b[0m\n\u001b[1;32m      6\u001b[0m con \u001b[39m=\u001b[39m sqlite3\u001b[39m.\u001b[39mconnect(\u001b[39m\"\u001b[39m\u001b[39mdb.sqlite\u001b[39m\u001b[39m\"\u001b[39m)\n\u001b[1;32m      7\u001b[0m cur \u001b[39m=\u001b[39m con\u001b[39m.\u001b[39mcursor()\n\u001b[0;32m----> 8\u001b[0m cur\u001b[39m.\u001b[39;49mexecute(\u001b[39m\"\u001b[39;49m\u001b[39mCREATE TABLE device(id, x, y, z, cpu_limit, gpu_limit, mem_limit, disk_limit, cpu_usage, gpu_usage, mem_usage, disk_usage)\u001b[39;49m\u001b[39m\"\u001b[39;49m)\n",
      "\u001b[0;31mOperationalError\u001b[0m: table device already exists"
     ]
    }
   ],
   "source": [
    "create_db()"
   ]
  },
  {
   "cell_type": "code",
   "execution_count": 3,
   "metadata": {},
   "outputs": [],
   "source": [
    "con = sqlite3.connect(\"db.sqlite\")"
   ]
  },
  {
   "cell_type": "code",
   "execution_count": 4,
   "metadata": {},
   "outputs": [],
   "source": [
    "cur = con.cursor()"
   ]
  },
  {
   "cell_type": "code",
   "execution_count": 6,
   "metadata": {},
   "outputs": [
    {
     "data": {
      "text/plain": [
       "('device',)"
      ]
     },
     "execution_count": 6,
     "metadata": {},
     "output_type": "execute_result"
    }
   ],
   "source": [
    "res = cur.execute(\"SELECT name from sqlite_master\")\n",
    "res.fetchone()"
   ]
  },
  {
   "cell_type": "code",
   "execution_count": 9,
   "metadata": {},
   "outputs": [],
   "source": [
    "def populate_db(devices):\n",
    "    data = list()\n",
    "    for i in range(len(devices)):\n",
    "        new_device_cpu = random.choice([2,4,8])\n",
    "        new_device_gpu = random.choice([4,8,12,16])\n",
    "        new_device_mem = random.choice([4,8,16,24,32]) * 1024\n",
    "        new_device_disk = random.choice([50, 100, 125, 250, 500]) * 1024\n",
    "        #device(id, x, y, z, cpu_limit, gpu_limit, mem_limit, disk_limit, cpu_usage, gpu_usage, mem_usage, disk_usage)\n",
    "        data.append((i, devices[i][0],devices[i][1],0, new_device_cpu, new_device_gpu, new_device_mem, new_device_disk, 0, 0, 0, 0))\n",
    "\n",
    "    cur.executemany(\"INSERT INTO device VALUES(?, ?, ?, ?, ?, ?, ?, ?, ?, ?, ?, ?)\", data)\n",
    "\n",
    "    con.commit()\n",
    "    con.close()\n"
   ]
  },
  {
   "cell_type": "code",
   "execution_count": 31,
   "metadata": {},
   "outputs": [],
   "source": [
    "def dump_from_db(devices_list):\n",
    "    con = sqlite3.connect(\"db.sqlite\")\n",
    "    cur = con.cursor()\n",
    "    for row in cur.execute(\"SELECT * FROM device\"):\n",
    "        device = Device()\n",
    "\n",
    "        if device.getDeviceID() != row[0]:\n",
    "            device.setDeviceID(row[0])\n",
    "\n",
    "        device.setDevicePosition(row[1], row[2], row[3])\n",
    "\n",
    "        device.setDeviceCPULimit(row[4])\n",
    "        device.setDeviceGPULimit(row[5])\n",
    "        device.setDeviceMemLimit(row[6])\n",
    "        device.setDeviceDiskLimit(row[7])\n",
    "\n",
    "        device.setDeviceCPUUsage(row[8])\n",
    "        device.setDeviceGPUUsage(row[9])\n",
    "        device.setDeviceMemUsage(row[10])\n",
    "        device.setDeviceDiskUsage(row[11])\n",
    "\n",
    "        if len(devices_list) <= device.getDeviceID():\n",
    "            for i in range(device.getDeviceID()-len(devices_list)+1):\n",
    "                devices_list.append(None)\n",
    "\n",
    "        devices_list[device.getDeviceID()] = device"
   ]
  },
  {
   "cell_type": "code",
   "execution_count": 34,
   "metadata": {},
   "outputs": [],
   "source": []
  },
  {
   "cell_type": "code",
   "execution_count": 33,
   "metadata": {},
   "outputs": [],
   "source": [
    "devices_list=list()"
   ]
  },
  {
   "cell_type": "code",
   "execution_count": 35,
   "metadata": {},
   "outputs": [],
   "source": [
    "dump_from_db(devices_list)"
   ]
  },
  {
   "cell_type": "code",
   "execution_count": 36,
   "metadata": {},
   "outputs": [
    {
     "data": {
      "text/plain": [
       "[<modules.Device.Device at 0x7f41f0f1fd90>,\n",
       " <modules.Device.Device at 0x7f41f0c26800>,\n",
       " <modules.Device.Device at 0x7f41f0c459f0>,\n",
       " <modules.Device.Device at 0x7f41f0e35db0>,\n",
       " <modules.Device.Device at 0x7f420005b9d0>,\n",
       " <modules.Device.Device at 0x7f41f0e2ed40>,\n",
       " <modules.Device.Device at 0x7f4200058730>,\n",
       " <modules.Device.Device at 0x7f420027a5c0>,\n",
       " <modules.Device.Device at 0x7f4200279a50>,\n",
       " <modules.Device.Device at 0x7f41f0c47430>,\n",
       " <modules.Device.Device at 0x7f41f0c44c70>,\n",
       " <modules.Device.Device at 0x7f41f0c46ec0>,\n",
       " <modules.Device.Device at 0x7f41f0eb69b0>,\n",
       " <modules.Device.Device at 0x7f41f0eb6dd0>,\n",
       " <modules.Device.Device at 0x7f41f0eb5ff0>,\n",
       " <modules.Device.Device at 0x7f42002d7880>,\n",
       " <modules.Device.Device at 0x7f42002d75b0>,\n",
       " <modules.Device.Device at 0x7f42002d7eb0>,\n",
       " <modules.Device.Device at 0x7f42002d7dc0>,\n",
       " <modules.Device.Device at 0x7f42002d7790>,\n",
       " <modules.Device.Device at 0x7f42002d7f10>,\n",
       " <modules.Device.Device at 0x7f42002d7520>,\n",
       " <modules.Device.Device at 0x7f42002d74c0>,\n",
       " <modules.Device.Device at 0x7f42002d7b80>,\n",
       " <modules.Device.Device at 0x7f42002d7760>,\n",
       " <modules.Device.Device at 0x7f42002d74f0>,\n",
       " <modules.Device.Device at 0x7f42002d7490>,\n",
       " <modules.Device.Device at 0x7f42002d7430>,\n",
       " <modules.Device.Device at 0x7f42002d7460>,\n",
       " <modules.Device.Device at 0x7f42002d7610>,\n",
       " <modules.Device.Device at 0x7f42002d75e0>,\n",
       " <modules.Device.Device at 0x7f42002d7400>,\n",
       " <modules.Device.Device at 0x7f42002d73d0>,\n",
       " <modules.Device.Device at 0x7f42002d7340>,\n",
       " <modules.Device.Device at 0x7f42002d7850>,\n",
       " <modules.Device.Device at 0x7f42002d72e0>,\n",
       " <modules.Device.Device at 0x7f42002d7310>,\n",
       " <modules.Device.Device at 0x7f42002d73a0>,\n",
       " <modules.Device.Device at 0x7f42002d7370>,\n",
       " <modules.Device.Device at 0x7f42002d72b0>]"
      ]
     },
     "execution_count": 36,
     "metadata": {},
     "output_type": "execute_result"
    }
   ],
   "source": [
    "devices_list"
   ]
  },
  {
   "cell_type": "code",
   "execution_count": 11,
   "metadata": {},
   "outputs": [],
   "source": [
    "\n",
    "devices = list()\n",
    "for j in range(40):\n",
    "        # Device ID for dictionary storage\n",
    "        #dev_id = n_devices_per_floor*i+j\n",
    "\n",
    "        # Processing device position, random x,y, z fixed between various values\n",
    "        x = round(random.random() * 40,2)\n",
    "        y = round(random.random() * 40,2)\n",
    "\n",
    "        # Putting device in an array (dictionary possibility below)\n",
    "        # We get devices[dev_id] = [x,y,z]\n",
    "        devices.append([x,y])\n",
    "\n",
    "populate_db(devices)"
   ]
  },
  {
   "cell_type": "code",
   "execution_count": null,
   "metadata": {},
   "outputs": [],
   "source": []
  }
 ],
 "metadata": {
  "kernelspec": {
   "display_name": "Python 3.10.9 64-bit",
   "language": "python",
   "name": "python3"
  },
  "language_info": {
   "codemirror_mode": {
    "name": "ipython",
    "version": 3
   },
   "file_extension": ".py",
   "mimetype": "text/x-python",
   "name": "python",
   "nbconvert_exporter": "python",
   "pygments_lexer": "ipython3",
   "version": "3.10.9"
  },
  "orig_nbformat": 4,
  "vscode": {
   "interpreter": {
    "hash": "e7370f93d1d0cde622a1f8e1c04877d8463912d04d973331ad4851f04de6915a"
   }
  }
 },
 "nbformat": 4,
 "nbformat_minor": 2
}
